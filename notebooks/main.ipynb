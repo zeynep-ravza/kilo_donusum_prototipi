{
 "cells": [
  {
   "cell_type": "code",
   "execution_count": 52,
   "id": "aa713314",
   "metadata": {},
   "outputs": [
    {
     "name": "stdout",
     "output_type": "stream",
     "text": [
      "✅ Kaydedildi: ../outputs/masks/person1_transparent.png\n",
      "✅ Kaydedildi: ../outputs/masks/person10_transparent.png\n",
      "✅ Kaydedildi: ../outputs/masks/person11_transparent.png\n",
      "✅ Kaydedildi: ../outputs/masks/person2_transparent.png\n",
      "✅ Kaydedildi: ../outputs/masks/person3_transparent.png\n",
      "✅ Kaydedildi: ../outputs/masks/person4_transparent.png\n",
      "✅ Kaydedildi: ../outputs/masks/person5_transparent.png\n",
      "✅ Kaydedildi: ../outputs/masks/person6_transparent.png\n",
      "✅ Kaydedildi: ../outputs/masks/person8_transparent.png\n",
      "✅ Kaydedildi: ../outputs/masks/person9_transparent.png\n"
     ]
    }
   ],
   "source": [
    "import os\n",
    "import sys\n",
    "import cv2\n",
    "import numpy as np\n",
    "\n",
    "sys.path.append(os.path.abspath('..'))\n",
    "from src.segmentation import segment_body\n",
    "\n",
    "# === Konfigürasyon Ayarları ===\n",
    "IMAGE_DIR = '../data/'\n",
    "OUTPUT_DIR = '../outputs/masks/'\n",
    "SUPPORTED_FORMATS = ('.jpg', '.jpeg', '.png')\n",
    "\n",
    "def load_image(image_path):\n",
    "    \"\"\"Görseli RGB formatında yükler.\"\"\"\n",
    "    image_bgr = cv2.imread(image_path)\n",
    "    if image_bgr is None:\n",
    "        return None\n",
    "    return cv2.cvtColor(image_bgr, cv2.COLOR_BGR2RGB)\n",
    "\n",
    "  \n",
    "\n",
    "def apply_segmentation(image_rgb):\n",
    "    \"\"\"Segmentasyon maskesini üretir.\"\"\"\n",
    "    mask = segment_body(image_rgb)\n",
    "    return mask\n",
    "\n",
    "def save_transparent_image(image_rgb, mask, output_path):\n",
    "    \"\"\"Arka planı maskeye göre şeffaf hale getirir.\"\"\"\n",
    "    alpha_channel = (mask > 0).astype(np.uint8) * 255\n",
    "    rgba_image = cv2.merge([image_rgb[:, :, 0],\n",
    "                            image_rgb[:, :, 1],\n",
    "                            image_rgb[:, :, 2],\n",
    "                            alpha_channel])\n",
    "    rgba_image_bgra = cv2.cvtColor(rgba_image, cv2.COLOR_RGBA2BGRA)\n",
    "    cv2.imwrite(output_path, rgba_image_bgra)\n",
    "\n",
    "def process_images():\n",
    "    \"\"\"Tüm görseller üzerinde segmentasyon uygular.\"\"\"\n",
    "    os.makedirs(OUTPUT_DIR, exist_ok=True)\n",
    "\n",
    "    image_files = [f for f in os.listdir(IMAGE_DIR) if f.lower().endswith(SUPPORTED_FORMATS)]\n",
    "\n",
    "    for i, filename in enumerate(image_files, 1):\n",
    "        image_path = os.path.join(IMAGE_DIR, filename)\n",
    "        image_rgb = load_image(image_path)\n",
    "\n",
    "        if image_rgb is None:\n",
    "            print(f\"⚠️ Görsel yüklenemedi: {image_path}\")\n",
    "            continue\n",
    "\n",
    "        mask = apply_segmentation(image_rgb)\n",
    "\n",
    "        name, _ = os.path.splitext(filename)\n",
    "        transparent_output = os.path.join(OUTPUT_DIR, f'{name}_transparent.png')\n",
    "        save_transparent_image(image_rgb, mask, transparent_output)\n",
    "\n",
    "        print(f\"✅ Kaydedildi: {transparent_output}\")\n",
    "\n",
    "if __name__ == \"__main__\":\n",
    "    process_images()  "
   ]
  }
 ],
 "metadata": {
  "kernelspec": {
   "display_name": "Python 3",
   "language": "python",
   "name": "python3"
  },
  "language_info": {
   "codemirror_mode": {
    "name": "ipython",
    "version": 3
   },
   "file_extension": ".py",
   "mimetype": "text/x-python",
   "name": "python",
   "nbconvert_exporter": "python",
   "pygments_lexer": "ipython3",
   "version": "3.11.0"
  }
 },
 "nbformat": 4,
 "nbformat_minor": 5
}
